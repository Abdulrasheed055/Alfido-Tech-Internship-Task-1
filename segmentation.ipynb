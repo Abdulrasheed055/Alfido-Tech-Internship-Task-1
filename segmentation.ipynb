{
 "cells": [
  {
   "cell_type": "code",
   "execution_count": 1,
   "id": "1e8b97ff-67d5-453f-8a85-fed5278422fc",
   "metadata": {},
   "outputs": [],
   "source": [
    "import numpy as np\n",
    "import pandas as pd\n",
    "from sklearn.impute import SimpleImputer\n",
    "from sklearn.preprocessing import OneHotEncoder, StandardScaler, LabelEncoder\n",
    "from sklearn.compose import ColumnTransformer\n",
    "from sklearn.pipeline import Pipeline\n",
    "from sklearn.ensemble import RandomForestClassifier\n",
    "from sklearn.cluster import KMeans\n",
    "from sklearn.metrics import silhouette_score\n",
    "from sklearn.model_selection import StratifiedKFold, cross_val_score\n"
   ]
  },
  {
   "cell_type": "code",
   "execution_count": 2,
   "id": "a33c7c8c-e029-4475-a813-46940127de24",
   "metadata": {},
   "outputs": [],
   "source": [
    "RND = 42\n",
    "\n",
    "# -------------------------\n",
    "# 1) Load data\n",
    "train = pd.read_csv(r\"C:\\Users\\Dell\\Desktop\\intershp\\New folder\\train.csv\")\n",
    "test  = pd.read_csv(r\"C:\\Users\\Dell\\Desktop\\intershp\\New folder\\test.csv\")\n",
    "sample = pd.read_csv(r\"C:\\Users\\Dell\\Desktop\\intershp\\New folder\\sample_submission.csv\")  # template for submission\n",
    "ID_COL = \"ID\"\n",
    "TARGET = \"Segmentation\"\n"
   ]
  },
  {
   "cell_type": "code",
   "execution_count": 3,
   "id": "2fa9d3b5-9f58-43e2-a2fe-d62e8a62c731",
   "metadata": {},
   "outputs": [],
   "source": [
    "# quick clean: trim whitespace in string columns\n",
    "def strip_strings(df):\n",
    "    df.columns = df.columns.str.strip()\n",
    "    for c in df.select_dtypes(include=\"object\").columns:\n",
    "        df[c] = df[c].astype(str).str.strip()\n",
    "    return df\n",
    "\n",
    "train = strip_strings(train)\n",
    "test  = strip_strings(test)"
   ]
  },
  {
   "cell_type": "code",
   "execution_count": 11,
   "id": "3447fb8d-9ab8-41b2-af10-8817f64e9556",
   "metadata": {},
   "outputs": [],
   "source": [
    "# -------------------------\n",
    "# 2) Feature list (keep it simple and consistent)\n",
    "features = [\"Gender\", \"Ever_Married\", \"Age\", \"Graduated\",\n",
    "            \"Profession\", \"Work_Experience\", \"Spending_Score\",\n",
    "            \"Family_Size\", \"Var_1\"]\n",
    "\n",
    "X = train[features].copy()\n",
    "y = train[TARGET].copy()\n",
    "X_test = test[features].copy()\n",
    "\n",
    "# coerce numeric columns (bad strings -> NaN so imputer can handle them)\n",
    "for col in [\"Age\", \"Work_Experience\", \"Family_Size\"]:\n",
    "    if col in X.columns:\n",
    "        X[col] = pd.to_numeric(X[col], errors=\"coerce\")\n",
    "        X_test[col] = pd.to_numeric(X_test[col], errors=\"coerce\")\n",
    "\n",
    "# map spending to an ordinal numeric (Low < Average < High)\n",
    "sp_map = {\"Low\": 0, \"Average\": 1, \"High\": 2}\n",
    "train[\"Spending_Score\"] = train[\"Spending_Score\"].map(sp_map).astype(float)\n",
    "for df in (X, X_test):\n",
    "    df[\"Spending_Score\"] = (\n",
    "        df[\"Spending_Score\"].map(sp_map).fillna(1).astype(float)\n",
    "    )\n"
   ]
  },
  {
   "cell_type": "code",
   "execution_count": 12,
   "id": "8eb376a9-5f9f-46a0-a3c7-942ef842ef83",
   "metadata": {},
   "outputs": [],
   "source": [
    "# 3) Preprocessing: numeric & categorical\n",
    "\n",
    "num_cols = [\"Age\", \"Work_Experience\", \"Family_Size\", \"Spending_Score\"]\n",
    "cat_cols = [\"Gender\", \"Ever_Married\", \"Graduated\", \"Profession\", \"Var_1\"]\n",
    "\n",
    "num_pipeline = Pipeline([\n",
    "    (\"impute\", SimpleImputer(strategy=\"median\")),   # fill missing numeric with median\n",
    "    (\"scale\", StandardScaler())                     # standardize numeric features\n",
    "])\n",
    "\n",
    "cat_pipeline = Pipeline([\n",
    "    (\"impute\", SimpleImputer(strategy=\"most_frequent\")),  # fill missing categorical with mode\n",
    "    (\"ohe\", OneHotEncoder(handle_unknown=\"ignore\", sparse_output=False))\n",
    "])\n",
    "\n",
    "preprocessor = ColumnTransformer([\n",
    "    (\"num\", num_pipeline, num_cols),\n",
    "    (\"cat\", cat_pipeline, cat_cols),\n",
    "], remainder=\"drop\")\n"
   ]
  },
  {
   "cell_type": "code",
   "execution_count": 31,
   "id": "b683cae3-a93b-4838-86a8-c78d8f6d519e",
   "metadata": {},
   "outputs": [
    {
     "name": "stdout",
     "output_type": "stream",
     "text": [
      "Age                         0\n",
      "Work_Experience             0\n",
      "Family_Size                 0\n",
      "Spending_Score              0\n",
      "Gender_Female               0\n",
      "Gender_Male                 0\n",
      "Ever_Married_No             0\n",
      "Ever_Married_Yes            0\n",
      "Ever_Married_nan            0\n",
      "Graduated_No                0\n",
      "Graduated_Yes               0\n",
      "Graduated_nan               0\n",
      "Profession_Artist           0\n",
      "Profession_Doctor           0\n",
      "Profession_Engineer         0\n",
      "Profession_Entertainment    0\n",
      "Profession_Executive        0\n",
      "Profession_Healthcare       0\n",
      "Profession_Homemaker        0\n",
      "Profession_Lawyer           0\n",
      "Profession_Marketing        0\n",
      "Profession_nan              0\n",
      "Var_1_Cat_1                 0\n",
      "Var_1_Cat_2                 0\n",
      "Var_1_Cat_3                 0\n",
      "Var_1_Cat_4                 0\n",
      "Var_1_Cat_5                 0\n",
      "Var_1_Cat_6                 0\n",
      "Var_1_Cat_7                 0\n",
      "Var_1_nan                   0\n",
      "dtype: int64\n"
     ]
    }
   ],
   "source": [
    "\n",
    "# Apply preprocessing to data\n",
    "processed = preprocessor.fit_transform(df)\n",
    "\n",
    "# Get feature names (after OHE expansion)\n",
    "feature_names = (\n",
    "    num_cols + \n",
    "    list(preprocessor.named_transformers_[\"cat\"][\"ohe\"].get_feature_names_out(cat_cols))\n",
    ")\n",
    "\n",
    "# Recreate DataFrame with transformed data\n",
    "df_processed = pd.DataFrame(processed, columns=feature_names)\n",
    "\n",
    "# Verify no missing values\n",
    "print(df_processed.isnull().sum())\n"
   ]
  },
  {
   "cell_type": "code",
   "execution_count": 19,
   "id": "13b49059-99d8-4f8a-a4ff-d0e9f948c8e9",
   "metadata": {},
   "outputs": [
    {
     "name": "stdout",
     "output_type": "stream",
     "text": [
      "Silhouette score (all data, k=4): 0.182\n",
      "Cluster sizes:\n",
      " Cluster\n",
      "0    2747\n",
      "1    2048\n",
      "2    1849\n",
      "3    1424\n",
      "Name: count, dtype: int64\n"
     ]
    }
   ],
   "source": [
    "# # 4) Quick clustering (k=4) for insight\n",
    "# # Fit preprocessor on combined data so categories include test values too\n",
    "# all_X = pd.concat([X, X_test], axis=0).reset_index(drop=True)\n",
    "# Z_all = preprocessor.fit_transform(all_X)   # numpy array\n",
    "\n",
    "# k = 4\n",
    "# kmeans = KMeans(n_clusters=k, random_state=RND, n_init=10)\n",
    "# clusters = kmeans.fit_predict(Z_all)\n",
    "\n",
    "# # separate clusters back to train/test\n",
    "# train_clusters = clusters[: len(X)]\n",
    "# test_clusters  = clusters[len(X):]\n",
    "\n",
    "# # optional: silhouette score to check cluster quality (higher is better, max 1)\n",
    "# try:\n",
    "#     sil = silhouette_score(Z_all, clusters)\n",
    "#     print(f\"Silhouette score (all data, k={k}): {sil:.3f}\")\n",
    "# except Exception:\n",
    "#     pass\n",
    "\n",
    "# # attach cluster to train for quick profiling\n",
    "# train[\"Cluster\"] = train_clusters\n",
    "\n",
    "# print(\"Cluster sizes:\\n\", train[\"Cluster\"].value_counts())\n",
    "\n",
    "\n",
    "# 4) Quick clustering (k=4) for insight\n",
    "# Fit preprocessor on combined data so categories include test values too\n",
    "all_X = pd.concat([X, X_test], axis=0).reset_index(drop=True)\n",
    "Z_all = preprocessor.fit_transform(all_X)   # numpy array\n",
    "\n",
    "k = 4\n",
    "kmeans = KMeans(n_clusters=k, random_state=RND, n_init=10)\n",
    "clusters = kmeans.fit_predict(Z_all)\n",
    "\n",
    "# separate clusters back to train/test\n",
    "train_clusters = clusters[: len(X)]\n",
    "test_clusters  = clusters[len(X):]\n",
    "\n",
    "# optional: silhouette score to check cluster quality (higher is better, max 1)\n",
    "try:\n",
    "    sil = silhouette_score(Z_all, clusters)\n",
    "    print(f\"Silhouette score (all data, k={k}): {sil:.3f}\")\n",
    "except Exception:\n",
    "    pass\n",
    "\n",
    "# attach cluster to train for quick profiling\n",
    "train[\"Cluster\"] = train_clusters\n",
    "\n",
    "print(\"Cluster sizes:\\n\", train[\"Cluster\"].value_counts())\n",
    "\n",
    "# (NEW CODE #1) --- Customer Persona Profiles ---\n",
    "\n"
   ]
  },
  {
   "cell_type": "code",
   "execution_count": 20,
   "id": "7022fcdd-d089-4229-9344-0bdd04067de2",
   "metadata": {},
   "outputs": [
    {
     "name": "stdout",
     "output_type": "stream",
     "text": [
      "\n",
      "Cluster Profiles (averages):\n",
      "            Age  Work_Experience  Family_Size  Spending_Score\n",
      "Cluster                                                     \n",
      "0        53.03             1.31         3.08            1.41\n",
      "1        49.77             0.93         1.63            0.00\n",
      "2        27.06             1.36         4.25            0.03\n",
      "3        37.25             8.52         2.35            0.33\n",
      "\n",
      "Customer Personas:\n",
      "Cluster 0: Older professionals with moderate families and higher spending\n",
      "Cluster 1: Middle-aged individuals, smaller families, cautious spenders\n",
      "Cluster 2: Young adults, larger families, very low spending\n",
      "Cluster 3: Mid-career workers with high work experience, average spending\n"
     ]
    }
   ],
   "source": [
    "# Calculate mean stats per cluster\n",
    "cluster_profiles = train.groupby(\"Cluster\").agg({\n",
    "    \"Age\": \"mean\",\n",
    "    \"Work_Experience\": \"mean\",\n",
    "    \"Family_Size\": \"mean\",\n",
    "    \"Spending_Score\": \"mean\"\n",
    "}).round(2)\n",
    "\n",
    "print(\"\\nCluster Profiles (averages):\\n\", cluster_profiles)\n",
    "\n",
    "# (NEW CODE #2) --- Translate into customer personas ---\n",
    "personas = {\n",
    "    0: \"Older professionals with moderate families and higher spending\",\n",
    "    1: \"Middle-aged individuals, smaller families, cautious spenders\",\n",
    "    2: \"Young adults, larger families, very low spending\",\n",
    "    3: \"Mid-career workers with high work experience, average spending\"\n",
    "}\n",
    "\n",
    "print(\"\\nCustomer Personas:\")\n",
    "for c in cluster_profiles.index:\n",
    "    print(f\"Cluster {c}: {personas[c]}\")\n"
   ]
  },
  {
   "cell_type": "code",
   "execution_count": null,
   "id": "576a6b3c-1607-485b-b761-bc9375e77904",
   "metadata": {},
   "outputs": [],
   "source": []
  },
  {
   "cell_type": "code",
   "execution_count": 24,
   "id": "e963db9c-7851-4681-be06-98db108a3c58",
   "metadata": {},
   "outputs": [
    {
     "data": {
      "image/png": "[encoded data removed]",
      "text/plain": [
       "<Figure size 1000x600 with 1 Axes>"
      ]
     },
     "metadata": {},
     "output_type": "display_data"
    }
   ],
   "source": [
    "import matplotlib.pyplot as plt\n",
    "import seaborn as sns\n",
    "\n",
    "\n",
    "# --- Code 5: Visualization of Cluster Profiles with Labels ---\n",
    "\n",
    "# Define cluster labels (you can adjust after checking profile values)\n",
    "cluster_labels = {\n",
    "    0: \"Young Professionals\",\n",
    "    1: \"High Spenders\",\n",
    "    2: \"Budget Families\",\n",
    "    3: \"Students/Early Career\"\n",
    "}\n",
    "\n",
    "# Replace cluster numbers with labels\n",
    "train[\"Cluster_Label\"] = train[\"Cluster\"].map(cluster_labels)\n",
    "\n",
    "# Recompute profiles with labels\n",
    "profiles = train.groupby(\"Cluster_Label\")[[\"Age\",\"Work_Experience\",\"Family_Size\",\"Spending_Score\"]].mean()\n",
    "\n",
    "# 1) Barplot of averages per cluster\n",
    "profiles.plot(kind=\"bar\", figsize=(10,6))\n",
    "plt.title(\"Cluster Profiles (Average Values)\")\n",
    "plt.ylabel(\"Mean Value\")\n",
    "plt.xticks(rotation=20, ha=\"right\")\n",
    "plt.legend(title=\"Features\")\n",
    "plt.show()\n",
    "\n"
   ]
  },
  {
   "cell_type": "code",
   "execution_count": 9,
   "id": "232379d0-0d37-4f18-9e6d-4748e54d85b0",
   "metadata": {},
   "outputs": [
    {
     "name": "stdout",
     "output_type": "stream",
     "text": [
      "CV f1_macro mean: 0.477  std: 0.009\n"
     ]
    }
   ],
   "source": [
    "# 5) Classification: train model to predict Segmentation on TEST\n",
    "# encode target labels A/B/C/D -> integers\n",
    "lbl = LabelEncoder()\n",
    "y_enc = lbl.fit_transform(y)\n",
    "\n",
    "clf = Pipeline([\n",
    "    (\"preproc\", preprocessor), \n",
    "    (\"model\", RandomForestClassifier(n_estimators=200, random_state=RND, n_jobs=-1))\n",
    "])\n",
    "\n",
    "# quick cross-validated check (f1_macro)\n",
    "cv = StratifiedKFold(n_splits=5, shuffle=True, random_state=RND)\n",
    "scores = cross_val_score(clf, X, y_enc, cv=cv, scoring=\"f1_macro\", n_jobs=-1)\n",
    "print(f\"CV f1_macro mean: {scores.mean():.3f}  std: {scores.std():.3f}\")\n",
    "\n",
    "# fit on all train, predict test\n",
    "clf.fit(X, y_enc)\n",
    "pred_enc = clf.predict(X_test)\n",
    "pred = lbl.inverse_transform(pred_enc)   # back to labels A/B/C/D"
   ]
  },
  {
   "cell_type": "code",
   "execution_count": 32,
   "id": "0ef84f1a-cfc8-4a83-ba2d-361b64b43947",
   "metadata": {},
   "outputs": [
    {
     "name": "stdout",
     "output_type": "stream",
     "text": [
      "Saved submission.csv with 2627 rows\n",
      "\n",
      "Simple profile by true Segmentation:\n",
      "                 Age  Work_Experience  Family_Size  Spending_Score\n",
      "Segmentation                                                     \n",
      "A             44.92             2.87         2.44            0.45\n",
      "B             48.20             2.38         2.70            0.73\n",
      "C             49.14             2.24         2.97            0.87\n",
      "D             33.39             3.02         3.23            0.20\n"
     ]
    }
   ],
   "source": [
    "\n",
    "# 6) Build submission (use test IDs - aligns with most competitions)\n",
    "submission = pd.DataFrame({ID_COL: test[ID_COL].values, \"Segmentation\": pred})\n",
    "submission.to_csv(\"submission.csv\", index=False)\n",
    "print(\"Saved submission.csv with\", submission.shape[0], \"rows\")\n",
    "\n",
    "# -------------------------\n",
    "# 7) Quick profiling output you can paste in report\n",
    "profile = train.groupby(\"Segmentation\").agg({\n",
    "    \"Age\": \"mean\", \"Work_Experience\": \"mean\", \"Family_Size\": \"mean\", \"Spending_Score\": \"mean\"\n",
    "}).round(2)\n",
    "print(\"\\nSimple profile by true Segmentation:\\n\", profile)\n"
   ]
  },
  {
   "cell_type": "code",
   "execution_count": null,
   "id": "b6f74444-b864-41df-8841-d28ec4e8a164",
   "metadata": {},
   "outputs": [],
   "source": []
  }
 ],
 "metadata": {
  "kernelspec": {
   "display_name": "Python 3 (ipykernel)",
   "language": "python",
   "name": "python3"
  },
  "language_info": {
   "codemirror_mode": {
    "name": "ipython",
    "version": 3
   },
   "file_extension": ".py",
   "mimetype": "text/x-python",
   "name": "python",
   "nbconvert_exporter": "python",
   "pygments_lexer": "ipython3",
   "version": "3.13.5"
  }
 },
 "nbformat": 4,
 "nbformat_minor": 5
}
